{
  "nbformat": 4,
  "nbformat_minor": 0,
  "metadata": {
    "colab": {
      "provenance": [],
      "authorship_tag": "ABX9TyPygul6V18nG01u3IXq10t6",
      "include_colab_link": true
    },
    "kernelspec": {
      "name": "python3",
      "display_name": "Python 3"
    },
    "language_info": {
      "name": "python"
    }
  },
  "cells": [
    {
      "cell_type": "markdown",
      "metadata": {
        "id": "view-in-github",
        "colab_type": "text"
      },
      "source": [
        "<a href=\"https://colab.research.google.com/github/MukulNehate18/Py-Mini-Apps/blob/main/Number_guessing_game.ipynb\" target=\"_parent\"><img src=\"https://colab.research.google.com/assets/colab-badge.svg\" alt=\"Open In Colab\"/></a>"
      ]
    },
    {
      "cell_type": "code",
      "execution_count": 1,
      "metadata": {
        "colab": {
          "base_uri": "https://localhost:8080/"
        },
        "id": "54PIu-t-njJ4",
        "outputId": "bc42d8c3-5e40-4187-ec3a-4c492d9ab037"
      },
      "outputs": [
        {
          "output_type": "stream",
          "name": "stdout",
          "text": [
            "Welcome to the Number Guessing Game!\n",
            "I've selected a random number between 0 and 100. Can you guess it?\n",
            "Enter your guess: 50\n",
            "Too high! Try again.\n",
            "You have 6 guesses left.\n",
            "Enter your guess: 25\n",
            "Too low! Try again.\n",
            "You have 5 guesses left.\n",
            "Enter your guess: 37\n",
            "Too high! Try again.\n",
            "You have 4 guesses left.\n",
            "Enter your guess: 31\n",
            "Too low! Try again.\n",
            "You have 3 guesses left.\n",
            "Enter your guess: 33\n",
            "Too low! Try again.\n",
            "You have 2 guesses left.\n",
            "Enter your guess: 35\n",
            "Congratulations! You guessed the number 35 correctly!\n"
          ]
        }
      ],
      "source": [
        "#Create a number guessing game\n",
        "import random\n",
        "\n",
        "def play_number_guessing_game():\n",
        "  #User get only 7 chance to guess\n",
        "  #The numbers are between 1 to 99\n",
        "  secret_number = random.randint(0, 100)\n",
        "  Guesses_left = 7\n",
        "\n",
        "  print(\"Welcome to the Number Guessing Game!\")\n",
        "  print(\"I've selected a random number between 0 and 100. Can you guess it?\")\n",
        "\n",
        "  while Guesses_left > 0:\n",
        "      guess = int(input(\"Enter your guess: \"))\n",
        "\n",
        "      if guess == secret_number:\n",
        "          print(f\"Congratulations! You guessed the number {secret_number} correctly!\")\n",
        "          break\n",
        "      elif guess < secret_number:\n",
        "          print(\"Too low! Try again.\")\n",
        "          Guesses_left -= 1\n",
        "          print(f\"You have {Guesses_left} guesses left.\")\n",
        "      else:\n",
        "          print(\"Too high! Try again.\")\n",
        "          Guesses_left -= 1\n",
        "          print(f\"You have {Guesses_left} guesses left.\")\n",
        "\n",
        "\n",
        "      if Guesses_left == 0:\n",
        "          print(f\"Sorry, you've run out of guesses. The secret number was {secret_number}.\")\n",
        "\n",
        "play_number_guessing_game()"
      ]
    }
  ]
}